{
  "nbformat": 4,
  "nbformat_minor": 0,
  "metadata": {
    "colab": {
      "name": "etl_dag.ipynb",
      "provenance": [],
      "collapsed_sections": [],
      "authorship_tag": "ABX9TyO6WW7WscwLL01yZ5dwT4aO",
      "include_colab_link": true
    },
    "kernelspec": {
      "name": "python3",
      "display_name": "Python 3"
    },
    "language_info": {
      "name": "python"
    }
  },
  "cells": [
    {
      "cell_type": "markdown",
      "metadata": {
        "id": "view-in-github",
        "colab_type": "text"
      },
      "source": [
        "<a href=\"https://colab.research.google.com/github/aekanun2020/2022-airflow/blob/main/etl_dag.ipynb\" target=\"_parent\"><img src=\"https://colab.research.google.com/assets/colab-badge.svg\" alt=\"Open In Colab\"/></a>"
      ]
    },
    {
      "cell_type": "code",
      "execution_count": null,
      "metadata": {
        "id": "mtUoasynerzP"
      },
      "outputs": [],
      "source": [
        "import time\n",
        "from datetime import datetime\n",
        "from airflow.models.dag import DAG\n",
        "from airflow.decorators import task\n",
        "from airflow.utils.task_group import TaskGroup\n",
        "from airflow.providers.microsoft.mssql.hooks.mssql import MsSqlHook\n",
        "from airflow.hooks.base_hook import BaseHook\n",
        "import pandas as pd\n",
        "from sqlalchemy import create_engine\n",
        "\n",
        "#transformation tasks\n",
        "def transform_src():\n",
        "  raw_pd = pd.read_csv('LoanStats_web.csv')\n",
        "  selected_pd = raw_pd[['int_rate','loan_status','term']]\n",
        "  regex_list = [r'%','months']\n",
        "  selected_pd['int_rate'].replace(regex=regex_list,value='',inplace=True)\n",
        "  selected_pd['term'].replace(regex=regex_list,value='',inplace=True)\n",
        "  selected_pd.fillna('N/A',inplace=True)\n",
        "  selected_pd.to_csv('test.json')\n",
        "  print('Transform completely')\n",
        "\n",
        "#DAG\n",
        "with DAG(dag_id=\"etl_dag\",schedule_interval=\"0 9 * * *\", start_date=datetime(2022, 5, 9),catchup=False,  tags=[\"etl_test\"]) as dag:\n",
        "\n",
        "    # [START howto_task_group_section_2]\n",
        "    with TaskGroup(\"transform_src_group\", tooltip=\"Transform and stage data\") as transform_src_group:\n",
        "        transform_src = transform_src()\n",
        "        #define task order\n",
        "        [transform_src]\n",
        "\n",
        "    transform_src_group"
      ]
    }
  ]
}