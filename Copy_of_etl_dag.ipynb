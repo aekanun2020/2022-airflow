{
  "nbformat": 4,
  "nbformat_minor": 0,
  "metadata": {
    "colab": {
      "name": "Copy of etl_dag.ipynb",
      "provenance": [],
      "collapsed_sections": [],
      "authorship_tag": "ABX9TyO3r7sRfqa01KlFmcoRe8uC",
      "include_colab_link": true
    },
    "kernelspec": {
      "name": "python3",
      "display_name": "Python 3"
    },
    "language_info": {
      "name": "python"
    }
  },
  "cells": [
    {
      "cell_type": "markdown",
      "metadata": {
        "id": "view-in-github",
        "colab_type": "text"
      },
      "source": [
        "<a href=\"https://colab.research.google.com/github/aekanun2020/2022-airflow/blob/main/Copy_of_etl_dag.ipynb\" target=\"_parent\"><img src=\"https://colab.research.google.com/assets/colab-badge.svg\" alt=\"Open In Colab\"/></a>"
      ]
    },
    {
      "cell_type": "code",
      "execution_count": null,
      "metadata": {
        "id": "mtUoasynerzP"
      },
      "outputs": [],
      "source": [
        "import time\n",
        "from datetime import datetime\n",
        "from airflow.models.dag import DAG\n",
        "from airflow.decorators import task\n",
        "from airflow.utils.task_group import TaskGroup\n",
        "from airflow.providers.microsoft.mssql.hooks.mssql import MsSqlHook\n",
        "from airflow.hooks.base_hook import BaseHook\n",
        "import pandas as pd\n",
        "from sqlalchemy import create_engine\n",
        "\n",
        "# The DAG object; we'll need this to instantiate a DAG\n",
        "from airflow import DAG\n",
        "\n",
        "# Operators; we need this to operate!\n",
        "from airflow.operators.python import PythonOperator\n",
        "\n",
        "\n",
        "\n",
        "#DAG\n",
        "with DAG(\n",
        "    'Loanstats_etl_dag',\n",
        "    # [START default_args]\n",
        "    # These args will get passed on to each operator\n",
        "    # You can override them on a per-task basis during operator initialization\n",
        "    default_args={'retries': 2},\n",
        "    # [END default_args]\n",
        "    description='ETL DAG tutorial',\n",
        "    schedule_interval=None,\n",
        "    start_date=pendulum.datetime(2021, 1, 1, tz=\"UTC\"),\n",
        "    catchup=False,\n",
        "    tags=['example'],\n",
        ") as dag:\n",
        "  #transformation tasks\n",
        "  def extraction_to_transformation():\n",
        "    raw_pd = pd.read_csv('LoanStats_web.csv')\n",
        "    selected_pd = raw_pd[['int_rate','loan_status','term']]\n",
        "    regex_list = [r'%','months']\n",
        "    selected_pd['int_rate'].replace(regex=regex_list,value='',inplace=True)\n",
        "    selected_pd['term'].replace(regex=regex_list,value='',inplace=True)\n",
        "    selected_pd.fillna('N/A',inplace=True)\n",
        "    selected_pd.to_csv('test.json')\n",
        "  \n",
        "  transform_task = PythonOperator(\n",
        "        task_id='extraction_to_transformation',\n",
        "        python_callable=transform,\n",
        "    )\n",
        "  \n",
        "  transform_task\n",
        "\n"
      ]
    }
  ]
}